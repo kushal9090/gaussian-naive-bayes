{
 "cells": [
  {
   "cell_type": "code",
   "execution_count": 1,
   "metadata": {
    "collapsed": true
   },
   "outputs": [],
   "source": [
    "import numpy as np\n",
    "import math\n",
    "from sklearn import datasets\n",
    "import pandas as pd"
   ]
  },
  {
   "cell_type": "code",
   "execution_count": 2,
   "metadata": {
    "collapsed": true
   },
   "outputs": [],
   "source": [
    "iris = datasets.load_iris()\n",
    "x = iris.data\n",
    "y = iris.target\n",
    "y = y.reshape(len(y) , 1)"
   ]
  },
  {
   "cell_type": "code",
   "execution_count": 3,
   "metadata": {
    "collapsed": true
   },
   "outputs": [],
   "source": [
    "class gausianNaiveBayes():\n",
    "    def __init__(self):\n",
    "        return None\n",
    "    \n",
    "    def fit(self , x , y):\n",
    "        \n",
    "        y_classes , counts = np.unique(y.reshape(len(y),).tolist() , return_counts = True)\n",
    "        \n",
    "        mean = np.zeros((x.shape[1]*len(y_classes) , 1 ))\n",
    "        variance = np.zeros((x.shape[1]*len(y_classes ) , 1))\n",
    "        \n",
    "        class_proba = []\n",
    "        \n",
    "        df = pd.DataFrame(np.concatenate( (x,y) , axis = 1))\n",
    "        \n",
    "        c = 0 \n",
    "        for i in range(x.shape[1]):\n",
    "            for target in y_classes:\n",
    "                mean[c] = np.mean(df[i][df[df.shape[1] - 1] == target])\n",
    "                variance[c] = np.std(df[i][df[df.shape[1] - 1] == target])**2\n",
    "                c += 1\n",
    "            \n",
    "        mean = mean.reshape(x.shape[1] , len(y_classes))\n",
    "        variance = variance.reshape(x.shape[1] , len(y_classes))\n",
    "        \n",
    "            \n",
    "        for i in range(len(counts)):\n",
    "            class_proba.append(counts[i]/len(y))\n",
    "        \n",
    "        self.prior = class_proba\n",
    "        self.mean = mean\n",
    "        self.variance = variance\n",
    "        self.classes  = y_classes\n",
    "    \n",
    "    def predict(self , x ):\n",
    "        \n",
    "        z = np.ones((x.shape[0] , 1))\n",
    "        \n",
    "        ones = np.ones((x.shape[0] , len(self.classes)))\n",
    "        \n",
    "        p = math.pi\n",
    "        \n",
    "        for i in range(self.mean.shape[0]):\n",
    "            \n",
    "            z_1 = ones * x[: , i:i+1]\n",
    "            \n",
    "            a = z_1 - self.mean[i:i+1]\n",
    "            b = self.variance[i:i+1]\n",
    "            \n",
    "            z_1 = 1/np.sqrt(2 * p * b) * np.exp( (-0.5) * ( (a**2) / b) )\n",
    "            z = np.concatenate((z , z_1) , axis = 1)\n",
    "        \n",
    "        self.z = np.delete(z , 0 , axis = 1)\n",
    "        \n",
    "        class_model = np.ones((len(x) , 1))\n",
    "        for i in range(len(self.classes)):\n",
    "            c = 0 + i \n",
    "            z_2 = np.ones((len(x) , 1))\n",
    "            for n in range(x.shape[1]):\n",
    "                z_2 = self.z[:, c : c+1 ] * z_2\n",
    "                \n",
    "                c += len(self.classes)\n",
    "            class_model = np.concatenate((class_model , z_2) , axis = 1)\n",
    "        \n",
    "        self.class_model = np.delete(class_model , 0 , axis = 1)\n",
    "        \n",
    "        class_probabilities = np.ones((len(x) , 1))\n",
    "        \n",
    "        for i in range(len(self.classes)):\n",
    "            \n",
    "            a = ((self.class_model[:, i : i+1 ])*(self.prior[i]))   \n",
    "            b = np.sum( ( (self.class_model) * (self.prior)) , axis = 1)\n",
    "            ab = a/ (b.reshape(len(b) , 1))\n",
    "           \n",
    "            class_probabilities = np.concatenate((class_probabilities , ab)  , axis = 1)\n",
    "        \n",
    "        self.class_proba = np.delete(class_probabilities , 0 , axis = 1)\n",
    "        \n",
    "        return self.class_proba"
   ]
  },
  {
   "cell_type": "code",
   "execution_count": 4,
   "metadata": {
    "collapsed": true
   },
   "outputs": [],
   "source": [
    "algo =  gausianNaiveBayes()\n",
    "algo.fit( x , y)"
   ]
  },
  {
   "cell_type": "code",
   "execution_count": 5,
   "metadata": {
    "collapsed": true
   },
   "outputs": [],
   "source": [
    "pred_y  = algo.predict(x)"
   ]
  }
 ],
 "metadata": {
  "kernelspec": {
   "display_name": "Python 3",
   "language": "python",
   "name": "python3"
  },
  "language_info": {
   "codemirror_mode": {
    "name": "ipython",
    "version": 3
   },
   "file_extension": ".py",
   "mimetype": "text/x-python",
   "name": "python",
   "nbconvert_exporter": "python",
   "pygments_lexer": "ipython3",
   "version": "3.6.2"
  }
 },
 "nbformat": 4,
 "nbformat_minor": 2
}
